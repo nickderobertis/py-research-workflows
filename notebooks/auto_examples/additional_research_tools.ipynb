{
  "cells": [
    {
      "cell_type": "code",
      "execution_count": null,
      "metadata": {
        "collapsed": false
      },
      "outputs": [],
      "source": [
        "%matplotlib inline"
      ]
    },
    {
      "cell_type": "markdown",
      "metadata": {},
      "source": [
        "\nAdditional Research Tools\n=========================\n\nI've been using Python actively for research since 2015. One of the\nbeauties of Python is that it's very easy to write your own functions,\nmodules, and packages for workflows you do often. Every time that I hit\nsomething which was pretty difficult in Python, I built a tool for it to\nmake it easy. The result after these years of doing this is that I've\nbuilt up a lot of tools that make empirical research in Python easier.\nLet's take a look through them.\n\nTable of Contents\n-----------------\n\n-  `**pyexlatex**: Generate LaTeX directly from Python with a simplified\n   API <#pyexlatex>`__\n-  `**regtools**: High-level tools for running\n   regressions <#regtools>`__\n-  `**pd-utils**: Additional utilities to work with\n   Pandas <#pd-utils>`__\n-  `**datacode**: Data pipelines for humans <#datacode>`__\n-  `**bibtex\\_gen**: Citation management using Mendeley API and\n   BibTeX <#bibtex_gen>`__\n-  `**objcache**: Easily store Python objects for later (cache\n   results) <#objcache>`__\n-  `**pyfileconf**: Function and class configuration as Python files,\n   helpful for managing multiple complex configuations <#pyfileconf>`__\n"
      ]
    },
    {
      "cell_type": "markdown",
      "metadata": {},
      "source": [
        "Some General Imports\n~~~~~~~~~~~~~~~~~~~~\n\nImport some packages we'll need across the examples.\n\n\n"
      ]
    },
    {
      "cell_type": "code",
      "execution_count": null,
      "metadata": {
        "collapsed": false
      },
      "outputs": [],
      "source": [
        "import pandas as pd\nimport numpy as np\nfrom numpy import nan"
      ]
    },
    {
      "cell_type": "markdown",
      "metadata": {},
      "source": [
        "``pyexlatex``\n-------------\n\nGenerate LaTeX directly from Python with a simplified API.\n\nNOTE: You must have a LaTeX distribution installed on your machine for\nthis package to work. Tested with MikTeX and TeXLive on Windows and\nLinux.\n\nNOTE: It is highly recommended to run this example in Jupyer Lab so that\nPDFs will be outputted inline in Jupyter.\n\nFind more at `the\ndocumentation <https://nickderobertis.github.io/py-ex-latex>`__.\n\n\n"
      ]
    },
    {
      "cell_type": "markdown",
      "metadata": {},
      "source": [
        "The most basic example:\n\n\n"
      ]
    },
    {
      "cell_type": "code",
      "execution_count": null,
      "metadata": {
        "collapsed": false
      },
      "outputs": [],
      "source": [
        "import pyexlatex as pl\n\ndoc = pl.Document('woo')\ndoc"
      ]
    },
    {
      "cell_type": "markdown",
      "metadata": {},
      "source": [
        "As a LaTeX str:\n\n\n"
      ]
    },
    {
      "cell_type": "code",
      "execution_count": null,
      "metadata": {
        "collapsed": false
      },
      "outputs": [],
      "source": [
        "print(doc)"
      ]
    },
    {
      "cell_type": "markdown",
      "metadata": {},
      "source": [
        "Object-oriented API example:\n\n\n"
      ]
    },
    {
      "cell_type": "code",
      "execution_count": null,
      "metadata": {
        "collapsed": false
      },
      "outputs": [],
      "source": [
        "my_value = 5\n\ncontents = [\n    pl.Section(\n        [\n            f'Some text. My value is {my_value}.',\n            pl.UnorderedList([\n                'A bullet',\n                'List'\n            ])\n        ],\n        title='First Section'\n    )\n]\n\ndoc = pl.Document(contents)\ndoc"
      ]
    },
    {
      "cell_type": "markdown",
      "metadata": {},
      "source": [
        "Template-driven API example:\n\n\n"
      ]
    },
    {
      "cell_type": "code",
      "execution_count": null,
      "metadata": {
        "collapsed": false
      },
      "outputs": [],
      "source": [
        "template = \"\"\"\n{% filter Section(title='First Section') %}\n\nSome text. My value is {{ my_value }}.\n{{ [\n    'A bullet',\n    'List'\n] | UnorderedList }}\n\n{% endfilter %}\n\"\"\"\n\nclass MyModel(pl.Model):\n    my_value = 5\n    \ncontent = [MyModel(template_str=template)]\ndoc = pl.Document(content)\ndoc"
      ]
    },
    {
      "cell_type": "markdown",
      "metadata": {},
      "source": [
        "A combination works as well.\n\n\n"
      ]
    },
    {
      "cell_type": "code",
      "execution_count": null,
      "metadata": {
        "collapsed": false
      },
      "outputs": [],
      "source": [
        "content = [\n    MyModel(template_str=template),\n    pl.Section(\n        [\n            f'Some text. My value is {my_value}.',\n            pl.UnorderedList([\n                'A bullet',\n                'List'\n            ])\n        ],\n        title='Second Section'\n    )\n]\n\ndoc = pl.Document(content)\ndoc"
      ]
    },
    {
      "cell_type": "markdown",
      "metadata": {},
      "source": [
        "Equations are fine too.\n\n\n"
      ]
    },
    {
      "cell_type": "code",
      "execution_count": null,
      "metadata": {
        "collapsed": false
      },
      "outputs": [],
      "source": [
        "content.append(\n    pl.Section(\n        [\n            ['You can use inline equations', pl.Equation('y = mx + b'), \n             'by default, or pass inline=False to separate them', pl.Equation('E = MC^2', inline=False)]\n        ],\n        title='Equations Example'\n    )\n)\npl.Document(content)"
      ]
    },
    {
      "cell_type": "markdown",
      "metadata": {},
      "source": [
        "You can create tables from ``DataFrames``.\n\n\n"
      ]
    },
    {
      "cell_type": "code",
      "execution_count": null,
      "metadata": {
        "collapsed": false
      },
      "outputs": [],
      "source": [
        "# Create a DataFrame for example\ndf = pd.DataFrame(\n    [\n        (1, 2, 'Stuff'),\n        (3, 4, 'Thing'),\n        (5, 6, 'Other Thing'),\n    ],\n    columns=['a', 'b', 'c']\n)\n\ntable = pl.Table.from_list_of_lists_of_dfs([[df]])\npl.Document([table])"
      ]
    },
    {
      "cell_type": "markdown",
      "metadata": {},
      "source": [
        "Publication-quality multi-panel tables with captions, below text,\nconsolidation of indices, etc. are supported.\n\n\n"
      ]
    },
    {
      "cell_type": "code",
      "execution_count": null,
      "metadata": {
        "collapsed": false
      },
      "outputs": [],
      "source": [
        "df.set_index('c', inplace=True)\n\ntable = pl.Table.from_list_of_lists_of_dfs(\n    [\n        [df, df],\n        [df, df]\n    ],\n    shape=(1, 2),\n    include_index=True,\n    panel_names=['Top Panel', 'Bottom Panel'],\n    caption='My First Complex Table',\n    below_text=\"\"\"\n    Some description of my table. Isn't it nice to be able to do everything all in one command?\n    \"\"\",\n    label='tables:one'\n)\ncontent.append(table)\npl.Document(content)"
      ]
    },
    {
      "cell_type": "markdown",
      "metadata": {},
      "source": [
        "Figures are supported as well, with an integration for ``matplotlib``\nand therefore ``pandas`` as well (can also be loaded from file).\n\n\n"
      ]
    },
    {
      "cell_type": "code",
      "execution_count": null,
      "metadata": {
        "collapsed": false
      },
      "outputs": [],
      "source": [
        "ax = df.plot()\nfig = ax.get_figure()\n\npl_fig = pl.Figure.from_dict_of_names_and_plt_figures(\n    {\n        'My Subfigure': fig,  # more subfigures can be passed in the same way\n    },\n    '.',  # output location\n    figure_name='My Figure',\n    label='figs:one',\n    position_str_name_dict={\n        'My Subfigure': r'[t]{0.95\\linewidth}'  # LaTeX positioning strings accepted (be sure to use r'' to escape \\)\n    }\n)\ncontent.append(pl_fig)\npl.Document(content)"
      ]
    },
    {
      "cell_type": "markdown",
      "metadata": {},
      "source": [
        "Table/Figure references work just fine and you can use the objects\ndirectly if desired.\n\n\n"
      ]
    },
    {
      "cell_type": "code",
      "execution_count": null,
      "metadata": {
        "collapsed": false
      },
      "outputs": [],
      "source": [
        "content.append(\n    pl.Section(\n        [\n            ['See Table', pl.Ref(table.label), 'and Figure', pl.Ref(pl_fig.label)]\n        ],\n        title='Example for Table and Figure References'\n    )\n)\npl.Document(content)"
      ]
    },
    {
      "cell_type": "markdown",
      "metadata": {},
      "source": [
        "Support for citations as well. There is an easier way to create these\nusing ``bibtex_gen`` `as shown in that section <#bibtex_gen>`__.\n\n\n"
      ]
    },
    {
      "cell_type": "code",
      "execution_count": null,
      "metadata": {
        "collapsed": false
      },
      "outputs": [],
      "source": [
        "bibtex_item = pl.BibTexArticle(\n    'using-pyexlatex',\n    'Nick DeRobertis',\n    'How to Use pyexlatex',\n    'The Journal of Awesome Stuff',\n    '2020',\n    volume='Vol 1',\n    pages='1-2',\n)\n\ncontent.extend([\n    pl.Section(\n        [\n            ['As shown by', pl.CiteT('using-pyexlatex'), pl.Monospace('pyexlatex'), 'is pretty awesome.']\n        ],\n        title='Example for Using Citations'\n    ),\n    pl.Bibliography([bibtex_item], style_name='jof')\n])\npl.Document(content)"
      ]
    },
    {
      "cell_type": "markdown",
      "metadata": {},
      "source": [
        "Add metadata to the document such as author, title, etc.\n\n\n"
      ]
    },
    {
      "cell_type": "code",
      "execution_count": null,
      "metadata": {
        "collapsed": false
      },
      "outputs": [],
      "source": [
        "footnotes = {\n        'nick': pl.Footnote(\n            \"University of Florida, PhD Candidate, Tel: (352)392-4669, Email: Nicholas.DeRobertis@Warrington.ufl.edu\"\n        ),\n        'other': pl.Footnote(\n            \"Example University, Professor\"\n        )\n    }\n\nabstract = \"\"\"\nA short abstract which is included for example purposes. There is a lot of configuration available for how the document\nitself renders. Feel free to take this as an example of something that looks pretty good and then look through the \ndocumentation for how to modify it.\n\"\"\"\n\ndoc = pl.Document(\n    content,\n    authors=[\n        f'{pl.SmallCaps(\"Nick DeRobertis\")}{footnotes[\"nick\"]}',\n        f'{pl.SmallCaps(\"Other Person\")}{footnotes[\"other\"]}',\n    ], \n    title='The title of my paper', \n    abstract=abstract,\n    page_modifier_str='margin=1.0in',\n    section_numbering_styles=dict(\n        section=r'\\Roman{section}',\n        subsection=r'\\thesection.\\Alph{subsection}',\n        subsubsection=r'\\thesubsection.\\arabic{subsubsection}',\n        subfigure=r'\\roman{subfigure}',\n    ),\n    floats_at_end=True,\n    font_size=12,\n    line_spacing=2,\n    tables_relative_font_size=-2,\n    page_style='fancyplain',\n    custom_headers=[\n        pl.Header(pl.SmallCaps('My Short Title'), align='left'),\n        pl.Header(pl.SmallCaps(['Page ', pl.ThisPageNumber()]))\n    ],\n    page_numbers=False,\n    separate_abstract_page=True,\n    extra_title_page_lines=[\n        [pl.Italics('JEL Classification:'), 'E42, E44, E52, G12, G15, [add more here]'],\n        [pl.Italics('Keywords:'), 'Thing; stuff; other stuf'],\n    ],\n)\ndoc"
      ]
    },
    {
      "cell_type": "markdown",
      "metadata": {},
      "source": [
        "LaTeX presentations with Beamer are supported as well.\n\n\n"
      ]
    },
    {
      "cell_type": "code",
      "execution_count": null,
      "metadata": {
        "collapsed": false
      },
      "outputs": [],
      "source": [
        "pres_content = [\n    pl.Frame(\n        [\n            'Some text',\n            pl.Block(\n                [\n                    'more text'\n                ],\n                title='My Block'\n            ),\n            pl_fig\n        ]\n    )\n]\npl.Presentation(pres_content)"
      ]
    },
    {
      "cell_type": "markdown",
      "metadata": {},
      "source": [
        "And with sections, metadata, frame templates, etc.\n\n\n"
      ]
    },
    {
      "cell_type": "code",
      "execution_count": null,
      "metadata": {
        "collapsed": false
      },
      "outputs": [],
      "source": [
        "pl_fig\n\npres_content = [\n    pl.Section(\n        [\n            pl.DimRevealListFrame(\n                [\n                    'some',\n                    'bullet',\n                    'points'\n                ],\n                title='First Frame'\n            ),\n        ],\n        title='First Section'\n    ),\n    pl.Section(\n        [\n            pl.Frame(\n                pl_fig,\n                title='Second Frame'\n            ),\n        ],\n        title='Second Section'\n    )\n    \n]\npl.Presentation(\n    pres_content, \n    title='My Presentation',\n    authors=['Nick DeRobertis', 'Some Person'],\n    short_title='Pres',\n    subtitle='An Example Presentation',\n    short_author='ND',\n    institutions=[\n        ['University of Florida'],\n        ['University of Florida', 'Some other Place']\n    ],\n    short_institution='UF',\n    nav_header=True,\n    toc_sections=True\n)"
      ]
    },
    {
      "cell_type": "markdown",
      "metadata": {},
      "source": [
        "By default it produces the \"slides\" version that you would use while\npresenting. It can also produce a \"handouts\" version which removes all\nthe effects (overlays).\n\n\n"
      ]
    },
    {
      "cell_type": "code",
      "execution_count": null,
      "metadata": {
        "collapsed": false
      },
      "outputs": [],
      "source": [
        "pl.Presentation(\n    pres_content, \n    title='My Presentation',\n    authors=['Nick DeRobertis', 'Some Person'],\n    short_title='Pres',\n    subtitle='An Example Presentation',\n    short_author='ND',\n    institutions=[\n        ['University of Florida'],\n        ['University of Florida', 'Some other Place']\n    ],\n    short_institution='UF',\n    nav_header=True,\n    toc_sections=True,\n    handouts=True  # add this to remove presentation effects, good for distributing the PDF\n)"
      ]
    },
    {
      "cell_type": "markdown",
      "metadata": {},
      "source": [
        "Some Clean Up\n~~~~~~~~~~~~~\n\nNot important, just cleaning up temporary files from the example.\n\n\n"
      ]
    },
    {
      "cell_type": "code",
      "execution_count": null,
      "metadata": {
        "collapsed": false
      },
      "outputs": [],
      "source": [
        "import os\n\ntemp_files = [\n    'My Subfigure.pdf',\n]\n\nfor file in temp_files:\n    os.remove(file)"
      ]
    },
    {
      "cell_type": "markdown",
      "metadata": {},
      "source": [
        "``regtools``\n------------\n\nHigh-level tools for running regressions.\n\nFind more at `the\ndocumentation <https://nickderobertis.github.io/regtools>`__.\n\n\n"
      ]
    },
    {
      "cell_type": "markdown",
      "metadata": {},
      "source": [
        "Some Setup\n~~~~~~~~~~\n\nCreate a DataFrame with Y and X variables and a known relationship\nbetween them. Also fill some cells with missing values.\n\n\n"
      ]
    },
    {
      "cell_type": "code",
      "execution_count": null,
      "metadata": {
        "collapsed": false
      },
      "outputs": [],
      "source": [
        "df = pd.DataFrame(\n    np.random.random((100, 4)),\n    columns=['X1', 'X2', 'X3', r'$\\epsilon$']\n)\ndf['Y'] = df['X1'] * 5 + df['X2'] * 10 + df['X3'] * 20 + df[r'$\\epsilon$'] * 10\ndf['f1'] = np.random.choice(['a', 'b', 'c'], size=(100,))\ndf['f2'] = np.random.choice(['d', 'e', 'f'], size=(100,))\ndf['date'] = pd.to_datetime(np.random.choice(['1/1/2000', '1/2/2000', '1/3/2000'], size=(100,)))\ndf.iloc[1, 2] = nan\ndf.iloc[3, 4] = nan\ndf.head()"
      ]
    },
    {
      "cell_type": "markdown",
      "metadata": {},
      "source": [
        "All regression automatically drop values with missing rows. By default\nthey run with heteroskedasticity-robust standard errors and a constant.\n\n\n"
      ]
    },
    {
      "cell_type": "code",
      "execution_count": null,
      "metadata": {
        "collapsed": false
      },
      "outputs": [],
      "source": [
        "import regtools\n\nresult = regtools.reg(\n    df,\n    'Y',\n    ['X1', 'X2', 'X3']\n)\nresult.summary()"
      ]
    },
    {
      "cell_type": "markdown",
      "metadata": {},
      "source": [
        "Run multiple regressions in one go with iteration tools. All functions\nalso support fixed effects and multiway clustering.\n\n\n"
      ]
    },
    {
      "cell_type": "code",
      "execution_count": null,
      "metadata": {
        "collapsed": false
      },
      "outputs": [],
      "source": [
        "reg_list, summ = regtools.reg_for_each_xvar_set_and_produce_summary(\n    df,\n    'Y',\n    [\n        ['X1'],\n        ['X1', 'X2'],\n        ['X1', 'X3'],\n        ['X1', 'X2', 'X3']\n    ],\n    fe=[['f1', 'f2']],\n    entity_var='f1',\n    time_var='date',\n    cluster=['f1', 'f2'],\n    robust=False\n)\nsumm"
      ]
    },
    {
      "cell_type": "markdown",
      "metadata": {},
      "source": [
        "Default is OLS. Other supported types: Probit, Logit, Quantile,\nFama-Macbeth. Just pass the string to ``reg_type``.\n\n\n"
      ]
    },
    {
      "cell_type": "code",
      "execution_count": null,
      "metadata": {
        "collapsed": false
      },
      "outputs": [],
      "source": [
        "reg_list, summ = regtools.reg_for_each_xvar_set_and_produce_summary(\n    df,\n    'Y',\n    [\n        ['X1'],\n        ['X1', 'X2'],\n        ['X1', 'X3'],\n        ['X1', 'X2', 'X3']\n    ],\n    reg_type='quantile',\n    q=0.9\n)\nsumm\n\nreg_list, summ = regtools.reg_for_each_xvar_set_and_produce_summary(\n    df,\n    'Y',\n    [\n        ['X1'],\n        ['X1', 'X2'],\n        ['X1', 'X3'],\n        ['X1', 'X2', 'X3']\n    ],\n    reg_type='fama-macbeth',\n    entity_var='f1',\n    time_var='date'\n)\nsumm"
      ]
    },
    {
      "cell_type": "markdown",
      "metadata": {},
      "source": [
        "``pd-utils``\n------------\n\nAdditional utilities to work with Pandas.\n\nFind more at `the\ndocumentation <https://nickderobertis.github.io/pd-utils>`__.\n\n\n"
      ]
    },
    {
      "cell_type": "markdown",
      "metadata": {},
      "source": [
        "Some Setup\n~~~~~~~~~~\n\n\n"
      ]
    },
    {
      "cell_type": "code",
      "execution_count": null,
      "metadata": {
        "collapsed": false
      },
      "outputs": [],
      "source": [
        "df1 = pd.DataFrame(\n    [\n        (\"001076\", \"3/1/1995\"),\n        (\"001076\", \"4/1/1995\"),\n        (\"001722\", \"1/1/2012\"),\n        (\"001722\", \"7/1/2012\"),\n        (\"001722\", nan),\n        (nan, \"1/1/2012\"),\n    ],\n    columns=[\"GVKEY\", \"Date\"],\n)\ndf1[\"Date\"] = pd.to_datetime(df1[\"Date\"])\n\ndf2 = pd.DataFrame(\n    [\n        (\"001076\", \"2/1/1995\"),\n        (\"001076\", \"3/2/1995\"),\n        (\"001722\", \"11/1/2011\"),\n        (\"001722\", \"10/1/2011\"),\n        (\"001722\", nan),\n        (nan, \"1/1/2012\"),\n    ],\n    columns=[\"GVKEY\", \"Date\"],\n)\ndf2[\"Date\"] = pd.to_datetime(df2[\"Date\"])\n\ndf3 = pd.DataFrame(\n    data=[\n        (10516, \"a\", \"1/1/2000\", 1.01, 0),\n        (10516, \"a\", \"1/2/2000\", 1.02, 1),\n        (10516, \"a\", \"1/3/2000\", 1.03, 1),\n        (10516, \"a\", \"1/4/2000\", 1.04, 0),\n        (10516, \"b\", \"1/1/2000\", 1.05, 1),\n        (10516, \"b\", \"1/2/2000\", 1.06, 1),\n        (10516, \"b\", \"1/3/2000\", 1.07, 1),\n        (10516, \"b\", \"1/4/2000\", 1.08, 1),\n        (10517, \"a\", \"1/1/2000\", 1.09, 0),\n        (10517, \"a\", \"1/2/2000\", 1.1, 0),\n        (10517, \"a\", \"1/3/2000\", 1.11, 0),\n        (10517, \"a\", \"1/4/2000\", 1.12, 1),\n    ],\n    columns=[\"PERMNO\", \"byvar\", \"Date\", \"RET\", \"weight\"],\n)\n\ndf1\n\ndf2\n\ndf3"
      ]
    },
    {
      "cell_type": "markdown",
      "metadata": {},
      "source": [
        "``tradedays``\n~~~~~~~~~~~~~\n\nWork directly with US market trading days.\n\n\n"
      ]
    },
    {
      "cell_type": "code",
      "execution_count": null,
      "metadata": {
        "collapsed": false
      },
      "outputs": [],
      "source": [
        "import pd_utils\n\npd.date_range(\n    start='1/1/2000',\n    end='1/31/2000',\n    freq=pd_utils.tradedays()\n)"
      ]
    },
    {
      "cell_type": "markdown",
      "metadata": {},
      "source": [
        "``left_merge_latest``\n~~~~~~~~~~~~~~~~~~~~~\n\nMerge the latest data available in the right ``DataFrame`` to the left\n``DataFrame``.\n\n\n"
      ]
    },
    {
      "cell_type": "code",
      "execution_count": null,
      "metadata": {
        "collapsed": false
      },
      "outputs": [],
      "source": [
        "pd_utils.left_merge_latest(\n    df1,\n    df2,\n    on='GVKEY',\n    max_offset=pd.Timedelta(days=30),\n#     max_offset=pd_utils.tradedays() * 20\n)"
      ]
    },
    {
      "cell_type": "markdown",
      "metadata": {},
      "source": [
        "``averages``\n~~~~~~~~~~~~\n\nEqual and value-weighted averages, optionally by groups\n\n\n"
      ]
    },
    {
      "cell_type": "code",
      "execution_count": null,
      "metadata": {
        "collapsed": false
      },
      "outputs": [],
      "source": [
        "pd_utils.averages(\n    df3,\n    'RET',\n    ['PERMNO', 'byvar'],\n    wtvar='weight',\n)"
      ]
    },
    {
      "cell_type": "markdown",
      "metadata": {},
      "source": [
        "``portfolio``\n~~~~~~~~~~~~~\n\nForm porfolios from some numeric column.\n\n\n"
      ]
    },
    {
      "cell_type": "code",
      "execution_count": null,
      "metadata": {
        "collapsed": false
      },
      "outputs": [],
      "source": [
        "pd_utils.portfolio(\n    df3,\n    'RET',\n    ngroups=3,\n#     cutoffs=[1.02, 1.07],\n#     quant_cutoffs=[0.2],\n    byvars='Date',\n)"
      ]
    },
    {
      "cell_type": "markdown",
      "metadata": {},
      "source": [
        "``long_to_wide``\n~~~~~~~~~~~~~~~~\n\nPandas has a built in ``wide_to_long`` function but not\n``long_to_wide``. There is ``.pivot`` but it can't handle multiple by\nvariables.\n\n\n"
      ]
    },
    {
      "cell_type": "code",
      "execution_count": null,
      "metadata": {
        "collapsed": false
      },
      "outputs": [],
      "source": [
        "pd_utils.long_to_wide(\n    df3,\n    [\"PERMNO\", \"byvar\"], \n    \"RET\", \n    colindex=\"Date\",\n    colindex_only=True\n)"
      ]
    },
    {
      "cell_type": "markdown",
      "metadata": {},
      "source": [
        "``winsorize``\n~~~~~~~~~~~~~\n\nWinsorize data, optionally by groups, optionally a subset of columns,\nand optionally only to top or bottom.\n\n\n"
      ]
    },
    {
      "cell_type": "code",
      "execution_count": null,
      "metadata": {
        "collapsed": false
      },
      "outputs": [],
      "source": [
        "pd_utils.winsorize(\n    df3, \n    0.4, \n    subset=\"RET\", \n    byvars=[\"PERMNO\", \"byvar\"],\n)"
      ]
    },
    {
      "cell_type": "markdown",
      "metadata": {},
      "source": [
        "``formatted_corr_df``\n~~~~~~~~~~~~~~~~~~~~~\n\nNicely formatted correlations.\n\n\n"
      ]
    },
    {
      "cell_type": "code",
      "execution_count": null,
      "metadata": {
        "collapsed": false
      },
      "outputs": [],
      "source": [
        "pd_utils.formatted_corr_df(df3)"
      ]
    },
    {
      "cell_type": "markdown",
      "metadata": {},
      "source": [
        "``datacode``\n------------\n\nData pipelines for humans.\n\nNOTE: Under active development. API is experimental and subject to\nchange.\n\nFind more at `the\ndocumentation <https://nickderobertis.github.io/data-code>`__.\n\nFeatures:\n\n-  Deal with the concept of variables rather than columns in a DataFrame\n-  Apply transformations to variables to update both the values and name\n   of the variable, but still be able to say it's the same variable\n\n   -  E.g. take lag of variable \"A\", now it is shown as\n      A\\ $_{t - 1}$ but you can still work with it as the same\n      variable without parsing the name\n\n-  Access variables by ``short_keys`` and tab-completion but have them\n   displayed with the label in the ``DataFrame``.\n-  Associate symbols and descriptions with variables. Generates symbols\n   by default and you can override.\n-  Attach data pipelines to generated data sources. It checks when the\n   original sources were last modified, and if they were more recently\n   modified than the pipeline was run, will run the pipeline again\n   automatically.\n-  Easier merges with data merge pipelines and smart merge options\n-  Everything is extendible so you can add your own custom logic\n-  Describe your data sources in detail to enable some features:\n\n   -  Built-in transformations are index-aware. E.g. you have described\n      that rows are indexed by firm and time. When you take a lag of the\n      variable, it will automatically realize it should take the lag\n      across the time dimension and within the firm\n   -  (Planned feature): Tell it what variables you want, and it will\n      figure out the merges to make it happen\n\n\n"
      ]
    },
    {
      "cell_type": "code",
      "execution_count": null,
      "metadata": {
        "collapsed": false
      },
      "outputs": [],
      "source": [
        "# TODO [#1]: add examples for datacode"
      ]
    },
    {
      "cell_type": "markdown",
      "metadata": {},
      "source": [
        "``bibtex_gen``\n--------------\n\nCitation management using Mendeley API and BibTeX.\n\nFind more at `the\ndocumentation <https://nickderobertis.github.io/bibtex-gen>`__.\n\n\n"
      ]
    },
    {
      "cell_type": "markdown",
      "metadata": {},
      "source": [
        "``objcache``\n------------\n\nEasily store Python objects for later (cache results).\n\nFind more at `the\ndocumentation <https://nickderobertis.github.io/obj-cache>`__.\n\nI use this in my workflow so that I can run analysis and store tables\nand figures with little effort, then later when I generate the paper I\nretrieve the tables and figures from the cache. That way I can update\neverything by running the analysis then generating the paper, or I can\nupdate just the text in the paper and generate it quickly using the\npre-existing tables and figures.\n\n\n"
      ]
    },
    {
      "cell_type": "code",
      "execution_count": null,
      "metadata": {
        "collapsed": false
      },
      "outputs": [],
      "source": [
        "from objcache import ObjectCache\n\ncache = ObjectCache('cache.zodb', ('a', 'b'))\ncache.store(5)\n\n# Later session\ncache = ObjectCache('cache.zodb', ('a', 'b'))\nresult = cache.get()\nprint(result)"
      ]
    },
    {
      "cell_type": "markdown",
      "metadata": {},
      "source": [
        "Some Cleanup\n~~~~~~~~~~~~\n\nNot important, just to clean up files generated from the example.\n\n\n"
      ]
    },
    {
      "cell_type": "code",
      "execution_count": null,
      "metadata": {
        "collapsed": false
      },
      "outputs": [],
      "source": [
        "import os\n\ntemp_files = [\n    'cache.zodb',\n    'cache.zodb.index',\n    'cache.zodb.lock',\n    'cache.zodb.tmp'\n]\n\nfor file in temp_files:\n    os.remove(file)"
      ]
    },
    {
      "cell_type": "markdown",
      "metadata": {},
      "source": [
        "``pyfileconf``\n--------------\n\nFunction and class configuration as Python files, helpful for managing\nmultiple complex configuations.\n\nNOTE: Under active development. API is experimental and subject to\nchange.\n\nFind more at `the\ndocumentation <https://nickderobertis.github.io/py-file-conf>`__.\n\nFeatures:\n\n-  Easy way to have multiple configurations for a single function or\n   class\n-  Generates Python file templates for configuration, complete with all\n   the arguments, type annotations, and default values of function or\n   class\n-  Run/get configured functions/classes from Python or the command line\n-  Update configurations at run-time in a Python script\n\n   -  Easy to do config-based scripting. E.g.: Run the whole analysis\n      with 3, 4, and 5 portfolios.\n\n-  Works very well with ``datacode`` where you need to have many\n   variables, sources, etc. configured\n\n\n"
      ]
    },
    {
      "cell_type": "code",
      "execution_count": null,
      "metadata": {
        "collapsed": false
      },
      "outputs": [],
      "source": [
        "# TODO [#2]: add examples for pyfileconf"
      ]
    }
  ],
  "metadata": {
    "kernelspec": {
      "display_name": "Python 3",
      "language": "python",
      "name": "python3"
    },
    "language_info": {
      "codemirror_mode": {
        "name": "ipython",
        "version": 3
      },
      "file_extension": ".py",
      "mimetype": "text/x-python",
      "name": "python",
      "nbconvert_exporter": "python",
      "pygments_lexer": "ipython3",
      "version": "3.7.6"
    }
  },
  "nbformat": 4,
  "nbformat_minor": 0
}